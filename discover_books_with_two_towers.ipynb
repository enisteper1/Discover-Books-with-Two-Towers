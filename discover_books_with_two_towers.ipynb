{
 "cells": [
  {
   "cell_type": "markdown",
   "metadata": {},
   "source": [
    "## 1. Data Preprocessing "
   ]
  },
  {
   "cell_type": "markdown",
   "metadata": {},
   "source": [
    "### 1.1 Load Libraries"
   ]
  },
  {
   "cell_type": "code",
   "execution_count": 121,
   "metadata": {},
   "outputs": [],
   "source": [
    "import pandas as pd\n",
    "import numpy as np\n",
    "import pprint\n",
    "\n",
    "from typing import Dict, Text\n",
    "import tensorflow as tf\n",
    "import tensorflow_recommenders as tfrs"
   ]
  },
  {
   "cell_type": "markdown",
   "metadata": {},
   "source": [
    "### 1.2 Load Dataset"
   ]
  },
  {
   "cell_type": "code",
   "execution_count": 180,
   "metadata": {},
   "outputs": [
    {
     "name": "stderr",
     "output_type": "stream",
     "text": [
      "/var/folders/66/b29gfxwj3tb43t74fmwm28nmrsc95x/T/ipykernel_94767/1584586746.py:3: DtypeWarning: Columns (3) have mixed types. Specify dtype option on import or set low_memory=False.\n",
      "  books = pd.read_csv(\"dataset/Books.csv\")\n"
     ]
    }
   ],
   "source": [
    "# Datasets\n",
    "# Column names are converted for simplicity\n",
    "books = pd.read_csv(\"dataset/Books.csv\")\n",
    "\n",
    "ratings = pd.read_csv(\"dataset/Ratings.csv\")\n",
    "\n",
    "users = pd.read_csv(\"dataset/Users.csv\")"
   ]
  },
  {
   "cell_type": "code",
   "execution_count": 181,
   "metadata": {},
   "outputs": [
    {
     "name": "stdout",
     "output_type": "stream",
     "text": [
      "Number of Users: 47074\n",
      "Number of Books: 98413\n",
      "Number of Ratings: 223803\n"
     ]
    }
   ],
   "source": [
    "# Visualization and Type Standardization\n",
    "users[\"User-ID\"] = users[\"User-ID\"].apply(lambda x: f\"user_{x}\")\n",
    "\n",
    "# Filter out books with missing or corrupted information\n",
    "books[\"ISBN\"] = books[\"ISBN\"].apply(lambda x: f\"book_{x}\")\n",
    "books.drop([\"Image-URL-S\", \"Image-URL-M\", \"Image-URL-L\"], axis=1, inplace=True)\n",
    "books.dropna(inplace=True)\n",
    "\n",
    "def clean_year(year):\n",
    "    try:\n",
    "        return int(year)\n",
    "    except ValueError:\n",
    "        return -1\n",
    "\n",
    "books['Year-Of-Publication'] = books['Year-Of-Publication'].apply(clean_year)\n",
    "books = books[books['Year-Of-Publication'] != -1].reset_index(drop=True)\n",
    "\n",
    "\n",
    "ratings[\"ISBN\"] = ratings[\"ISBN\"].apply(lambda x: f\"book_{x}\")\n",
    "ratings[\"User-ID\"] = ratings[\"User-ID\"].apply(lambda x: f\"user_{x}\")\n",
    "ratings[\"Book-Rating\"] = ratings[\"Book-Rating\"].apply(lambda x: float(x))\n",
    "ratings = ratings[ratings.ISBN.isin(books['ISBN'].unique())]\n",
    "# Only consider high ratings\n",
    "ratings = ratings[ratings[\"Book-Rating\"] >= 8].reset_index(drop=True)\n",
    "\n",
    "\n",
    "# Consider user & book that has rating in ratings dataset\n",
    "books = books[books.ISBN.isin(ratings['ISBN'].unique())]\n",
    "users = users[users['User-ID'].isin(ratings['User-ID'].unique())]\n",
    "print(f\"Number of Users: {users['User-ID'].nunique()}\")\n",
    "print(f\"Number of Books: {books['ISBN'].nunique()}\")\n",
    "print(f\"Number of Ratings: {ratings.shape[0]}\")\n"
   ]
  },
  {
   "cell_type": "code",
   "execution_count": 182,
   "metadata": {},
   "outputs": [
    {
     "data": {
      "text/html": [
       "<div>\n",
       "<style scoped>\n",
       "    .dataframe tbody tr th:only-of-type {\n",
       "        vertical-align: middle;\n",
       "    }\n",
       "\n",
       "    .dataframe tbody tr th {\n",
       "        vertical-align: top;\n",
       "    }\n",
       "\n",
       "    .dataframe thead th {\n",
       "        text-align: right;\n",
       "    }\n",
       "</style>\n",
       "<table border=\"1\" class=\"dataframe\">\n",
       "  <thead>\n",
       "    <tr style=\"text-align: right;\">\n",
       "      <th></th>\n",
       "      <th>ISBN</th>\n",
       "      <th>Book-Title</th>\n",
       "      <th>Book-Author</th>\n",
       "      <th>Year-Of-Publication</th>\n",
       "      <th>Publisher</th>\n",
       "    </tr>\n",
       "  </thead>\n",
       "  <tbody>\n",
       "    <tr>\n",
       "      <th>1</th>\n",
       "      <td>book_0002005018</td>\n",
       "      <td>Clara Callan</td>\n",
       "      <td>Richard Bruce Wright</td>\n",
       "      <td>2001</td>\n",
       "      <td>HarperFlamingo Canada</td>\n",
       "    </tr>\n",
       "    <tr>\n",
       "      <th>2</th>\n",
       "      <td>book_0060973129</td>\n",
       "      <td>Decision in Normandy</td>\n",
       "      <td>Carlo D'Este</td>\n",
       "      <td>1991</td>\n",
       "      <td>HarperPerennial</td>\n",
       "    </tr>\n",
       "    <tr>\n",
       "      <th>3</th>\n",
       "      <td>book_0374157065</td>\n",
       "      <td>Flu: The Story of the Great Influenza Pandemic...</td>\n",
       "      <td>Gina Bari Kolata</td>\n",
       "      <td>1999</td>\n",
       "      <td>Farrar Straus Giroux</td>\n",
       "    </tr>\n",
       "    <tr>\n",
       "      <th>5</th>\n",
       "      <td>book_0399135782</td>\n",
       "      <td>The Kitchen God's Wife</td>\n",
       "      <td>Amy Tan</td>\n",
       "      <td>1991</td>\n",
       "      <td>Putnam Pub Group</td>\n",
       "    </tr>\n",
       "    <tr>\n",
       "      <th>6</th>\n",
       "      <td>book_0425176428</td>\n",
       "      <td>What If?: The World's Foremost Military Histor...</td>\n",
       "      <td>Robert Cowley</td>\n",
       "      <td>2000</td>\n",
       "      <td>Berkley Publishing Group</td>\n",
       "    </tr>\n",
       "  </tbody>\n",
       "</table>\n",
       "</div>"
      ],
      "text/plain": [
       "              ISBN                                         Book-Title  \\\n",
       "1  book_0002005018                                       Clara Callan   \n",
       "2  book_0060973129                               Decision in Normandy   \n",
       "3  book_0374157065  Flu: The Story of the Great Influenza Pandemic...   \n",
       "5  book_0399135782                             The Kitchen God's Wife   \n",
       "6  book_0425176428  What If?: The World's Foremost Military Histor...   \n",
       "\n",
       "            Book-Author  Year-Of-Publication                 Publisher  \n",
       "1  Richard Bruce Wright                 2001     HarperFlamingo Canada  \n",
       "2          Carlo D'Este                 1991           HarperPerennial  \n",
       "3      Gina Bari Kolata                 1999      Farrar Straus Giroux  \n",
       "5               Amy Tan                 1991          Putnam Pub Group  \n",
       "6         Robert Cowley                 2000  Berkley Publishing Group  "
      ]
     },
     "execution_count": 182,
     "metadata": {},
     "output_type": "execute_result"
    }
   ],
   "source": [
    "books.head()"
   ]
  },
  {
   "cell_type": "markdown",
   "metadata": {},
   "source": [
    "### 1.3 Book to Book Matches"
   ]
  },
  {
   "cell_type": "code",
   "execution_count": 183,
   "metadata": {},
   "outputs": [
    {
     "name": "stdout",
     "output_type": "stream",
     "text": [
      "Number of Groups: 18578\n"
     ]
    },
    {
     "data": {
      "text/html": [
       "<div>\n",
       "<style scoped>\n",
       "    .dataframe tbody tr th:only-of-type {\n",
       "        vertical-align: middle;\n",
       "    }\n",
       "\n",
       "    .dataframe tbody tr th {\n",
       "        vertical-align: top;\n",
       "    }\n",
       "\n",
       "    .dataframe thead th {\n",
       "        text-align: right;\n",
       "    }\n",
       "</style>\n",
       "<table border=\"1\" class=\"dataframe\">\n",
       "  <thead>\n",
       "    <tr style=\"text-align: right;\">\n",
       "      <th></th>\n",
       "      <th>User-ID</th>\n",
       "      <th>ISBN_list</th>\n",
       "    </tr>\n",
       "  </thead>\n",
       "  <tbody>\n",
       "    <tr>\n",
       "      <th>0</th>\n",
       "      <td>user_100004</td>\n",
       "      <td>[book_0345339703, book_0399146652, book_042508...</td>\n",
       "    </tr>\n",
       "    <tr>\n",
       "      <th>1</th>\n",
       "      <td>user_100009</td>\n",
       "      <td>[book_0060392452, book_0060977337, book_031298...</td>\n",
       "    </tr>\n",
       "    <tr>\n",
       "      <th>2</th>\n",
       "      <td>user_10001</td>\n",
       "      <td>[book_0399143165, book_0684195976]</td>\n",
       "    </tr>\n",
       "    <tr>\n",
       "      <th>3</th>\n",
       "      <td>user_10003</td>\n",
       "      <td>[book_068483068X, book_0743446593]</td>\n",
       "    </tr>\n",
       "    <tr>\n",
       "      <th>4</th>\n",
       "      <td>user_100043</td>\n",
       "      <td>[book_0060937734, book_0375727345]</td>\n",
       "    </tr>\n",
       "  </tbody>\n",
       "</table>\n",
       "</div>"
      ],
      "text/plain": [
       "       User-ID                                          ISBN_list\n",
       "0  user_100004  [book_0345339703, book_0399146652, book_042508...\n",
       "1  user_100009  [book_0060392452, book_0060977337, book_031298...\n",
       "2   user_10001                 [book_0399143165, book_0684195976]\n",
       "3   user_10003                 [book_068483068X, book_0743446593]\n",
       "4  user_100043                 [book_0060937734, book_0375727345]"
      ]
     },
     "execution_count": 183,
     "metadata": {},
     "output_type": "execute_result"
    }
   ],
   "source": [
    "# Group books which are read from same user\n",
    "book_groups_raw = ratings.groupby('User-ID')\n",
    "book_groups = pd.DataFrame(\n",
    "    data={\n",
    "        \"User-ID\": list(book_groups_raw.groups.keys()),\n",
    "        \"ISBN_list\": list(book_groups_raw.ISBN.apply(list)),\n",
    "    }\n",
    ")\n",
    "# Eliminate if user has read one book\n",
    "book_groups = book_groups[book_groups['ISBN_list'].apply(len) > 1].reset_index(drop=True)\n",
    "print(f\"Number of Groups: {book_groups.shape[0]}\")\n",
    "book_groups.head()\n"
   ]
  },
  {
   "cell_type": "code",
   "execution_count": 184,
   "metadata": {},
   "outputs": [
    {
     "name": "stdout",
     "output_type": "stream",
     "text": [
      "Number of Matches: 30467210\n"
     ]
    },
    {
     "data": {
      "text/html": [
       "<div>\n",
       "<style scoped>\n",
       "    .dataframe tbody tr th:only-of-type {\n",
       "        vertical-align: middle;\n",
       "    }\n",
       "\n",
       "    .dataframe tbody tr th {\n",
       "        vertical-align: top;\n",
       "    }\n",
       "\n",
       "    .dataframe thead th {\n",
       "        text-align: right;\n",
       "    }\n",
       "</style>\n",
       "<table border=\"1\" class=\"dataframe\">\n",
       "  <thead>\n",
       "    <tr style=\"text-align: right;\">\n",
       "      <th></th>\n",
       "      <th>main_ISBN</th>\n",
       "      <th>similar_ISBN</th>\n",
       "    </tr>\n",
       "  </thead>\n",
       "  <tbody>\n",
       "    <tr>\n",
       "      <th>0</th>\n",
       "      <td>book_0345339703</td>\n",
       "      <td>book_0399146652</td>\n",
       "    </tr>\n",
       "    <tr>\n",
       "      <th>1</th>\n",
       "      <td>book_0345339703</td>\n",
       "      <td>book_0425083837</td>\n",
       "    </tr>\n",
       "    <tr>\n",
       "      <th>2</th>\n",
       "      <td>book_0345339703</td>\n",
       "      <td>book_0439064872</td>\n",
       "    </tr>\n",
       "    <tr>\n",
       "      <th>3</th>\n",
       "      <td>book_0345339703</td>\n",
       "      <td>book_059035342X</td>\n",
       "    </tr>\n",
       "    <tr>\n",
       "      <th>4</th>\n",
       "      <td>book_0399146652</td>\n",
       "      <td>book_0425083837</td>\n",
       "    </tr>\n",
       "  </tbody>\n",
       "</table>\n",
       "</div>"
      ],
      "text/plain": [
       "         main_ISBN     similar_ISBN\n",
       "0  book_0345339703  book_0399146652\n",
       "1  book_0345339703  book_0425083837\n",
       "2  book_0345339703  book_0439064872\n",
       "3  book_0345339703  book_059035342X\n",
       "4  book_0399146652  book_0425083837"
      ]
     },
     "execution_count": 184,
     "metadata": {},
     "output_type": "execute_result"
    }
   ],
   "source": [
    "\n",
    "book_matches = []\n",
    "# for each book in our isbn_list we generate pairs\n",
    "for isbn_list in book_groups['ISBN_list'].values:\n",
    "    if len(isbn_list) <= 1:\n",
    "        continue\n",
    "    for i, main_isbn in enumerate(isbn_list[:-1]):\n",
    "        for similar_isbn in isbn_list[i+1:]:\n",
    "            book_matches.append([main_isbn, similar_isbn])\n",
    "            \n",
    "book_pairs_dataset = pd.DataFrame(book_matches, columns=[\"main_ISBN\", \"similar_ISBN\"])\n",
    "data_size = book_pairs_dataset.shape[0]\n",
    "print(f\"Number of Matches: {data_size}\")\n",
    "book_pairs_dataset.head()"
   ]
  },
  {
   "cell_type": "code",
   "execution_count": 185,
   "metadata": {},
   "outputs": [
    {
     "data": {
      "text/html": [
       "<div>\n",
       "<style scoped>\n",
       "    .dataframe tbody tr th:only-of-type {\n",
       "        vertical-align: middle;\n",
       "    }\n",
       "\n",
       "    .dataframe tbody tr th {\n",
       "        vertical-align: top;\n",
       "    }\n",
       "\n",
       "    .dataframe thead th {\n",
       "        text-align: right;\n",
       "    }\n",
       "</style>\n",
       "<table border=\"1\" class=\"dataframe\">\n",
       "  <thead>\n",
       "    <tr style=\"text-align: right;\">\n",
       "      <th></th>\n",
       "      <th>main_ISBN</th>\n",
       "      <th>similar_ISBN</th>\n",
       "      <th>main_Book-Title</th>\n",
       "      <th>main_Book-Author</th>\n",
       "      <th>main_Year-Of-Publication</th>\n",
       "      <th>main_Publisher</th>\n",
       "      <th>similar_Book-Title</th>\n",
       "      <th>similar_Book-Author</th>\n",
       "      <th>similar_Year-Of-Publication</th>\n",
       "      <th>similar_Publisher</th>\n",
       "    </tr>\n",
       "  </thead>\n",
       "  <tbody>\n",
       "    <tr>\n",
       "      <th>0</th>\n",
       "      <td>book_0345339703</td>\n",
       "      <td>book_0399146652</td>\n",
       "      <td>The Fellowship of the Ring (The Lord of the Ri...</td>\n",
       "      <td>J.R.R. TOLKIEN</td>\n",
       "      <td>1986</td>\n",
       "      <td>Del Rey</td>\n",
       "      <td>The Cat Who Smelled a Rat</td>\n",
       "      <td>Lilian Jackson Braun</td>\n",
       "      <td>2001</td>\n",
       "      <td>Putnam Publishing Group</td>\n",
       "    </tr>\n",
       "    <tr>\n",
       "      <th>1</th>\n",
       "      <td>book_0345339703</td>\n",
       "      <td>book_0425083837</td>\n",
       "      <td>The Fellowship of the Ring (The Lord of the Ri...</td>\n",
       "      <td>J.R.R. TOLKIEN</td>\n",
       "      <td>1986</td>\n",
       "      <td>Del Rey</td>\n",
       "      <td>The Hunt for Red October</td>\n",
       "      <td>Tom Clancy</td>\n",
       "      <td>1985</td>\n",
       "      <td>Berkley Publishing Group</td>\n",
       "    </tr>\n",
       "    <tr>\n",
       "      <th>2</th>\n",
       "      <td>book_0345339703</td>\n",
       "      <td>book_0439064872</td>\n",
       "      <td>The Fellowship of the Ring (The Lord of the Ri...</td>\n",
       "      <td>J.R.R. TOLKIEN</td>\n",
       "      <td>1986</td>\n",
       "      <td>Del Rey</td>\n",
       "      <td>Harry Potter and the Chamber of Secrets (Book 2)</td>\n",
       "      <td>J. K. Rowling</td>\n",
       "      <td>2000</td>\n",
       "      <td>Scholastic</td>\n",
       "    </tr>\n",
       "    <tr>\n",
       "      <th>3</th>\n",
       "      <td>book_0345339703</td>\n",
       "      <td>book_059035342X</td>\n",
       "      <td>The Fellowship of the Ring (The Lord of the Ri...</td>\n",
       "      <td>J.R.R. TOLKIEN</td>\n",
       "      <td>1986</td>\n",
       "      <td>Del Rey</td>\n",
       "      <td>Harry Potter and the Sorcerer's Stone (Harry P...</td>\n",
       "      <td>J. K. Rowling</td>\n",
       "      <td>1999</td>\n",
       "      <td>Arthur A. Levine Books</td>\n",
       "    </tr>\n",
       "    <tr>\n",
       "      <th>4</th>\n",
       "      <td>book_0399146652</td>\n",
       "      <td>book_0425083837</td>\n",
       "      <td>The Cat Who Smelled a Rat</td>\n",
       "      <td>Lilian Jackson Braun</td>\n",
       "      <td>2001</td>\n",
       "      <td>Putnam Publishing Group</td>\n",
       "      <td>The Hunt for Red October</td>\n",
       "      <td>Tom Clancy</td>\n",
       "      <td>1985</td>\n",
       "      <td>Berkley Publishing Group</td>\n",
       "    </tr>\n",
       "  </tbody>\n",
       "</table>\n",
       "</div>"
      ],
      "text/plain": [
       "         main_ISBN     similar_ISBN  \\\n",
       "0  book_0345339703  book_0399146652   \n",
       "1  book_0345339703  book_0425083837   \n",
       "2  book_0345339703  book_0439064872   \n",
       "3  book_0345339703  book_059035342X   \n",
       "4  book_0399146652  book_0425083837   \n",
       "\n",
       "                                     main_Book-Title      main_Book-Author  \\\n",
       "0  The Fellowship of the Ring (The Lord of the Ri...        J.R.R. TOLKIEN   \n",
       "1  The Fellowship of the Ring (The Lord of the Ri...        J.R.R. TOLKIEN   \n",
       "2  The Fellowship of the Ring (The Lord of the Ri...        J.R.R. TOLKIEN   \n",
       "3  The Fellowship of the Ring (The Lord of the Ri...        J.R.R. TOLKIEN   \n",
       "4                          The Cat Who Smelled a Rat  Lilian Jackson Braun   \n",
       "\n",
       "   main_Year-Of-Publication           main_Publisher  \\\n",
       "0                      1986                  Del Rey   \n",
       "1                      1986                  Del Rey   \n",
       "2                      1986                  Del Rey   \n",
       "3                      1986                  Del Rey   \n",
       "4                      2001  Putnam Publishing Group   \n",
       "\n",
       "                                  similar_Book-Title   similar_Book-Author  \\\n",
       "0                          The Cat Who Smelled a Rat  Lilian Jackson Braun   \n",
       "1                           The Hunt for Red October            Tom Clancy   \n",
       "2   Harry Potter and the Chamber of Secrets (Book 2)         J. K. Rowling   \n",
       "3  Harry Potter and the Sorcerer's Stone (Harry P...         J. K. Rowling   \n",
       "4                           The Hunt for Red October            Tom Clancy   \n",
       "\n",
       "   similar_Year-Of-Publication         similar_Publisher  \n",
       "0                         2001   Putnam Publishing Group  \n",
       "1                         1985  Berkley Publishing Group  \n",
       "2                         2000                Scholastic  \n",
       "3                         1999    Arthur A. Levine Books  \n",
       "4                         1985  Berkley Publishing Group  "
      ]
     },
     "execution_count": 185,
     "metadata": {},
     "output_type": "execute_result"
    }
   ],
   "source": [
    "main_books = books.rename(columns=lambda x: 'main_' + x if x != 'ISBN' else x).copy()\n",
    "book_pairs_final = pd.merge(book_pairs_dataset, main_books,\n",
    "                              left_on='main_ISBN',\n",
    "                              right_on='ISBN')\n",
    "book_pairs_final.drop(\"ISBN\", axis=1, inplace=True)\n",
    "\n",
    "similar_books = books.rename(columns=lambda x: 'similar_' + x if x != 'ISBN' else x).copy()\n",
    "book_pairs_final = pd.merge(book_pairs_final, similar_books,\n",
    "                              left_on='similar_ISBN',\n",
    "                              right_on='ISBN')\n",
    "\n",
    "book_pairs_final.drop(\"ISBN\", axis=1, inplace=True)\n",
    "book_pairs_final.head()"
   ]
  },
  {
   "cell_type": "markdown",
   "metadata": {},
   "source": [
    "### 1.4 Convert Dataset to TFDS"
   ]
  },
  {
   "cell_type": "code",
   "execution_count": 186,
   "metadata": {},
   "outputs": [],
   "source": [
    "book_pairs = tf.data.Dataset.from_tensor_slices({\n",
    "    # main item features\n",
    "    'main_ISBN': tf.cast(book_pairs_final['main_ISBN'], dtype=tf.string),\n",
    "    'main_Book-Author': tf.cast(book_pairs_final['main_Book-Author'], dtype=tf.string),\n",
    "    'main_Publisher': tf.cast(book_pairs_final['main_Publisher'], dtype=tf.string),\n",
    "\n",
    "    # similar item features\n",
    "    'similar_ISBN': tf.cast(book_pairs_final['similar_ISBN'], dtype=tf.string),\n",
    "    'similar_Book-Author': tf.cast(book_pairs_final['similar_Book-Author'], dtype=tf.string),\n",
    "    'similar_Publisher': tf.cast(book_pairs_final['similar_Publisher'], dtype=tf.string),\n",
    "})\n",
    "\n",
    "book_infos = tf.data.Dataset.from_tensor_slices({\n",
    "    'ISBN': tf.cast(books['ISBN'], dtype=tf.string),\n",
    "    'Book-Title': tf.cast(books['Book-Title'], dtype=tf.string),\n",
    "    'Book-Author': tf.cast(books['Book-Author'], dtype=tf.string),\n",
    "    'Year-Of-Publication': tf.cast(books['Year-Of-Publication'], dtype=tf.int32),\n",
    "    'Publisher': tf.cast(books['Publisher'], dtype=tf.string),\n",
    "})\n"
   ]
  },
  {
   "cell_type": "code",
   "execution_count": 187,
   "metadata": {},
   "outputs": [
    {
     "name": "stdout",
     "output_type": "stream",
     "text": [
      "{'Book-Author': b'Richard Bruce Wright',\n",
      " 'Book-Title': b'Clara Callan',\n",
      " 'ISBN': b'book_0002005018',\n",
      " 'Publisher': b'HarperFlamingo Canada',\n",
      " 'Year-Of-Publication': 2001}\n"
     ]
    }
   ],
   "source": [
    "for x in book_infos.take(1).as_numpy_iterator():\n",
    "  pprint.pprint(x)"
   ]
  },
  {
   "cell_type": "code",
   "execution_count": 188,
   "metadata": {},
   "outputs": [
    {
     "name": "stdout",
     "output_type": "stream",
     "text": [
      "{'main_Book-Author': b'J.R.R. TOLKIEN',\n",
      " 'main_ISBN': b'book_0345339703',\n",
      " 'main_Publisher': b'Del Rey',\n",
      " 'similar_Book-Author': b'Lilian Jackson Braun',\n",
      " 'similar_ISBN': b'book_0399146652',\n",
      " 'similar_Publisher': b'Putnam Publishing Group'}\n"
     ]
    }
   ],
   "source": [
    "for x in book_pairs.take(1).as_numpy_iterator():\n",
    "  pprint.pprint(x)"
   ]
  },
  {
   "cell_type": "code",
   "execution_count": 189,
   "metadata": {},
   "outputs": [],
   "source": [
    "tf.random.set_seed(1002)\n",
    "train_percentage = 0.8\n",
    "shuffled = book_pairs.shuffle(data_size, seed=42, reshuffle_each_iteration=False)\n",
    "\n",
    "train = shuffled.take(int(data_size * train_percentage))\n",
    "test = shuffled.skip(int(data_size * train_percentage)).take(int(data_size * (1 - train_percentage)))"
   ]
  },
  {
   "cell_type": "code",
   "execution_count": 190,
   "metadata": {},
   "outputs": [],
   "source": [
    "# Unique ids, authors, publishers etc. for lookup embedding models\n",
    "book_id_lookup = tf.keras.layers.StringLookup()\n",
    "book_id_lookup.adapt(book_infos.map(lambda x: x[\"ISBN\"]))\n",
    "\n",
    "book_author_lookup = tf.keras.layers.StringLookup()\n",
    "book_author_lookup.adapt(book_infos.map(lambda x: x[\"Book-Author\"]))\n",
    "\n",
    "book_publisher_lookup = tf.keras.layers.StringLookup()\n",
    "book_publisher_lookup.adapt(book_infos.map(lambda x: x[\"Publisher\"]))"
   ]
  },
  {
   "cell_type": "markdown",
   "metadata": {},
   "source": [
    "## 2. Model Definition"
   ]
  },
  {
   "cell_type": "markdown",
   "metadata": {},
   "source": [
    "### Lookup Embeddings"
   ]
  },
  {
   "cell_type": "code",
   "execution_count": 191,
   "metadata": {},
   "outputs": [
    {
     "name": "stdout",
     "output_type": "stream",
     "text": [
      "Number of unique books 98413\n",
      "Number of unique authors 42694\n",
      "Number of unique publishers 8749\n"
     ]
    }
   ],
   "source": [
    "print(f\"Number of unique books {books['ISBN'].nunique()}\")\n",
    "print(f\"Number of unique authors {books['Book-Author'].nunique()}\")\n",
    "print(f\"Number of unique publishers {books['Publisher'].nunique()}\")\n"
   ]
  },
  {
   "cell_type": "code",
   "execution_count": 192,
   "metadata": {},
   "outputs": [],
   "source": [
    "\n",
    "# Book ID Model\n",
    "book_embedding_dimension = 64\n",
    "book_id_embedding = tf.keras.layers.Embedding(\n",
    "    input_dim=book_id_lookup.vocabulary_size(),\n",
    "    output_dim=book_embedding_dimension\n",
    ")\n",
    "book_id_model = tf.keras.Sequential([book_id_lookup, book_id_embedding])\n",
    "\n",
    "# Author Model\n",
    "author_embedding_dimension = 32\n",
    "book_author_embedding = tf.keras.layers.Embedding(\n",
    "    input_dim=book_author_lookup.vocabulary_size(),\n",
    "    output_dim=author_embedding_dimension\n",
    ")\n",
    "book_author_model = tf.keras.Sequential([book_author_lookup, book_author_embedding])\n",
    "\n",
    "# Publisher Model\n",
    "publisher_embedding_dimension = 16\n",
    "book_publisher_embedding = tf.keras.layers.Embedding(\n",
    "    input_dim=book_publisher_lookup.vocabulary_size(),\n",
    "    output_dim=publisher_embedding_dimension\n",
    ")\n",
    "book_publisher_model = tf.keras.Sequential([book_publisher_lookup, book_publisher_embedding])\n"
   ]
  },
  {
   "cell_type": "code",
   "execution_count": 193,
   "metadata": {},
   "outputs": [
    {
     "data": {
      "text/plain": [
       "<tf.Tensor: shape=(32,), dtype=float32, numpy=\n",
       "array([-0.04628872,  0.00980667,  0.03819538, -0.04937264,  0.03588755,\n",
       "       -0.01652881, -0.01204226,  0.00336093,  0.02372298,  0.04973009,\n",
       "       -0.03273942, -0.04899427,  0.03525858, -0.0451337 ,  0.00672914,\n",
       "        0.01025388,  0.0317633 ,  0.00057109,  0.021229  ,  0.00911748,\n",
       "       -0.00168433, -0.01043292, -0.03307284, -0.04889264, -0.02043271,\n",
       "       -0.0362847 ,  0.0450996 , -0.04497403, -0.01856596, -0.01401292,\n",
       "       -0.02213863,  0.04905016], dtype=float32)>"
      ]
     },
     "execution_count": 193,
     "metadata": {},
     "output_type": "execute_result"
    }
   ],
   "source": [
    "book_author_model('Richard Bruce Wright')"
   ]
  },
  {
   "cell_type": "code",
   "execution_count": 194,
   "metadata": {},
   "outputs": [],
   "source": [
    "class BookModel(tf.keras.Model):\n",
    "\n",
    "  def __init__(self, book_id_model, book_author_model, book_publisher_model):\n",
    "    super().__init__()\n",
    "\n",
    "    self.book_id_model = book_id_model\n",
    "    self.book_author_model = book_author_model\n",
    "    self.book_publisher_model = book_publisher_model\n",
    "\n",
    "  def call(self, features: Dict[Text, tf.Tensor]):\n",
    "\n",
    "    return tf.concat([\n",
    "        self.book_id_model(features[\"ISBN\"]),\n",
    "        self.book_author_model(features[\"Book-Author\"]),\n",
    "        self.book_publisher_model(features[\"Publisher\"])\n",
    "    ], axis=1)"
   ]
  },
  {
   "cell_type": "code",
   "execution_count": 195,
   "metadata": {},
   "outputs": [
    {
     "data": {
      "text/plain": [
       "<tf.Tensor: shape=(1, 112), dtype=float32, numpy=\n",
       "array([[-0.0134122 , -0.04224319, -0.03837799,  0.02480504,  0.03014285,\n",
       "         0.02383741, -0.00601326,  0.01344645,  0.03237287,  0.02488359,\n",
       "         0.02762369,  0.02722977, -0.03640391, -0.03811057,  0.00512516,\n",
       "        -0.01192813, -0.04547076, -0.02449411,  0.00400566,  0.02495438,\n",
       "        -0.00774561,  0.03269542, -0.04670668,  0.04599568, -0.02222877,\n",
       "         0.00293582,  0.04730506, -0.0312807 ,  0.019148  ,  0.01982771,\n",
       "        -0.02242998, -0.04490442, -0.03699709, -0.03562649,  0.01551062,\n",
       "         0.01284896,  0.01619971, -0.03642218,  0.03533652, -0.00893278,\n",
       "        -0.04676353,  0.02842263,  0.02641115,  0.04681584, -0.01512507,\n",
       "         0.00619549, -0.00829776,  0.03972492, -0.04693673, -0.03643564,\n",
       "        -0.04171269,  0.04280094, -0.01155259, -0.01512391, -0.03418152,\n",
       "         0.0188534 , -0.03014343,  0.04709292, -0.04209763, -0.00666716,\n",
       "        -0.04999206, -0.03589796,  0.01303006,  0.0235743 , -0.04628872,\n",
       "         0.00980667,  0.03819538, -0.04937264,  0.03588755, -0.01652881,\n",
       "        -0.01204226,  0.00336093,  0.02372298,  0.04973009, -0.03273942,\n",
       "        -0.04899427,  0.03525858, -0.0451337 ,  0.00672914,  0.01025388,\n",
       "         0.0317633 ,  0.00057109,  0.021229  ,  0.00911748, -0.00168433,\n",
       "        -0.01043292, -0.03307284, -0.04889264, -0.02043271, -0.0362847 ,\n",
       "         0.0450996 , -0.04497403, -0.01856596, -0.01401292, -0.02213863,\n",
       "         0.04905016,  0.0383668 , -0.0272458 , -0.01477573,  0.01313013,\n",
       "        -0.03537971,  0.04665747,  0.02952376,  0.02332047, -0.01028918,\n",
       "         0.00669599,  0.00167867, -0.00779203,  0.03298717,  0.024187  ,\n",
       "         0.02719666,  0.03841228]], dtype=float32)>"
      ]
     },
     "execution_count": 195,
     "metadata": {},
     "output_type": "execute_result"
    }
   ],
   "source": [
    "book_model = BookModel(book_id_model, book_author_model, book_publisher_model)\n",
    "book_model({'Book-Author': ['Richard Bruce Wright'],\n",
    "            'Book-Title': ['Clara Callan'],\n",
    "            'ISBN': ['book_0002005018'],\n",
    "            'Publisher': ['HarperFlamingo Canada'],\n",
    "            'Year-Of-Publication': [2001]})"
   ]
  },
  {
   "cell_type": "code",
   "execution_count": 196,
   "metadata": {},
   "outputs": [],
   "source": [
    "# Metrics & Task\n",
    "metrics = tfrs.metrics.FactorizedTopK(candidates=book_infos.batch(128).map(book_model))\n",
    "task = tfrs.tasks.Retrieval(metrics=metrics)"
   ]
  },
  {
   "cell_type": "code",
   "execution_count": 197,
   "metadata": {},
   "outputs": [],
   "source": [
    "class Book2BookModel(tf.keras.Model):\n",
    "    def __init__(self, book_model, task, embedding_dimension=64):\n",
    "        super().__init__()\n",
    "        \n",
    "        self.book_model = tf.keras.Sequential([book_model,\n",
    "                                               tf.keras.layers.Dense(embedding_dimension)])\n",
    "        self.task = task\n",
    "\n",
    "    def compute_loss(self, features: Dict[Text, tf.Tensor]):\n",
    "        # Generation of main book embedding from main item features\n",
    "        user_embeddings = self.book_model({'ISBN':features['main_ISBN'],\n",
    "                                          'Book-Author': features['main_Book-Author'],\n",
    "                                          'Publisher': features['main_Publisher']})\n",
    "\n",
    "        # Generation of similar book embedding from similar item features\n",
    "        similar_book_embedding = self.book_model({'ISBN':features['similar_ISBN'],\n",
    "                                                 'Book-Author': features['similar_Book-Author'],\n",
    "                                                 'Publisher': features['similar_Publisher']})\n",
    "\n",
    "        # The task computes the loss and the metrics.\n",
    "        return self.task(user_embeddings,\n",
    "                         similar_book_embedding)"
   ]
  },
  {
   "cell_type": "code",
   "execution_count": 198,
   "metadata": {},
   "outputs": [],
   "source": [
    "book2book_model = Book2BookModel(book_model, task)\n",
    "book2book_model.compile(optimizer=tf.keras.optimizers.legacy.Adagrad(learning_rate=0.1))"
   ]
  },
  {
   "cell_type": "code",
   "execution_count": 199,
   "metadata": {},
   "outputs": [],
   "source": [
    "book2book_model.fit(book_pairs_final, epochs=1)"
   ]
  },
  {
   "cell_type": "code",
   "execution_count": null,
   "metadata": {},
   "outputs": [],
   "source": []
  },
  {
   "cell_type": "markdown",
   "metadata": {},
   "source": [
    "## References\n",
    "- https://www.tensorflow.org/recommenders/examples/basic_retrieval\n",
    "- https://www.tensorflow.org/recommenders/examples/featurization"
   ]
  },
  {
   "cell_type": "markdown",
   "metadata": {},
   "source": []
  }
 ],
 "metadata": {
  "kernelspec": {
   "display_name": "feast",
   "language": "python",
   "name": "python3"
  },
  "language_info": {
   "codemirror_mode": {
    "name": "ipython",
    "version": 3
   },
   "file_extension": ".py",
   "mimetype": "text/x-python",
   "name": "python",
   "nbconvert_exporter": "python",
   "pygments_lexer": "ipython3",
   "version": "3.9.18"
  },
  "orig_nbformat": 4
 },
 "nbformat": 4,
 "nbformat_minor": 2
}
