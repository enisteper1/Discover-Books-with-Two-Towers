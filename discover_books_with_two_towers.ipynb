{
 "cells": [
  {
   "cell_type": "markdown",
   "metadata": {},
   "source": [
    "## 1. Data Preprocessing "
   ]
  },
  {
   "cell_type": "markdown",
   "metadata": {},
   "source": [
    "### 1.1 Load Libraries"
   ]
  },
  {
   "cell_type": "code",
   "execution_count": 1,
   "metadata": {},
   "outputs": [],
   "source": [
    "import pandas as pd\n",
    "import numpy as np\n",
    "import pprint\n",
    "\n",
    "import tensorflow as tf"
   ]
  },
  {
   "cell_type": "markdown",
   "metadata": {},
   "source": [
    "### 1.2 Load Dataset"
   ]
  },
  {
   "cell_type": "code",
   "execution_count": 2,
   "metadata": {},
   "outputs": [
    {
     "name": "stderr",
     "output_type": "stream",
     "text": [
      "/var/folders/66/b29gfxwj3tb43t74fmwm28nmrsc95x/T/ipykernel_90369/1584586746.py:3: DtypeWarning: Columns (3) have mixed types. Specify dtype option on import or set low_memory=False.\n",
      "  books = pd.read_csv(\"dataset/Books.csv\")\n"
     ]
    }
   ],
   "source": [
    "# Datasets\n",
    "# Column names are converted for simplicity\n",
    "books = pd.read_csv(\"dataset/Books.csv\")\n",
    "\n",
    "ratings = pd.read_csv(\"dataset/Ratings.csv\")\n",
    "\n",
    "users = pd.read_csv(\"dataset/Users.csv\")"
   ]
  },
  {
   "cell_type": "code",
   "execution_count": 3,
   "metadata": {},
   "outputs": [
    {
     "name": "stdout",
     "output_type": "stream",
     "text": [
      "Number of Users: 278858\n",
      "Number of Books: 205820\n",
      "Number of Ratings: 208037\n"
     ]
    }
   ],
   "source": [
    "# Visualization and Type Standardization\n",
    "users[\"User-ID\"] = users[\"User-ID\"].apply(lambda x: f\"user_{x}\")\n",
    "print(f\"Number of Users: {users['User-ID'].nunique()}\")\n",
    "\n",
    "# Filter out books with missing or corrupted information\n",
    "books[\"ISBN\"] = books[\"ISBN\"].apply(lambda x: f\"book_{x}\")\n",
    "books.drop([\"Image-URL-S\", \"Image-URL-M\", \"Image-URL-L\"], axis=1, inplace=True)\n",
    "books.dropna(inplace=True)\n",
    "is_integer_rows = books[\"Year-Of-Publication\"].apply(lambda x: isinstance(x, int))\n",
    "books = books[is_integer_rows].reset_index(drop=True)\n",
    "books[\"Year-Of-Publication\"] = books[\"Year-Of-Publication\"].astype(int)\n",
    "\n",
    "\n",
    "print(f\"Number of Books: {books['ISBN'].nunique()}\")\n",
    "\n",
    "ratings[\"ISBN\"] = ratings[\"ISBN\"].apply(lambda x: f\"book_{x}\")\n",
    "ratings[\"User-ID\"] = ratings[\"User-ID\"].apply(lambda x: f\"user_{x}\")\n",
    "ratings[\"Book-Rating\"] = ratings[\"Book-Rating\"].apply(lambda x: float(x))\n",
    "ratings = ratings[ratings.ISBN.isin(books['ISBN'].unique())]\n",
    "# Only consider books with high ratings\n",
    "ratings = ratings[ratings[\"Book-Rating\"] >= 8].reset_index(drop=True)\n",
    "print(f\"Number of Ratings: {ratings.shape[0]}\")\n"
   ]
  },
  {
   "cell_type": "code",
   "execution_count": 4,
   "metadata": {},
   "outputs": [
    {
     "data": {
      "text/html": [
       "<div>\n",
       "<style scoped>\n",
       "    .dataframe tbody tr th:only-of-type {\n",
       "        vertical-align: middle;\n",
       "    }\n",
       "\n",
       "    .dataframe tbody tr th {\n",
       "        vertical-align: top;\n",
       "    }\n",
       "\n",
       "    .dataframe thead th {\n",
       "        text-align: right;\n",
       "    }\n",
       "</style>\n",
       "<table border=\"1\" class=\"dataframe\">\n",
       "  <thead>\n",
       "    <tr style=\"text-align: right;\">\n",
       "      <th></th>\n",
       "      <th>ISBN</th>\n",
       "      <th>Book-Title</th>\n",
       "      <th>Book-Author</th>\n",
       "      <th>Year-Of-Publication</th>\n",
       "      <th>Publisher</th>\n",
       "    </tr>\n",
       "  </thead>\n",
       "  <tbody>\n",
       "    <tr>\n",
       "      <th>0</th>\n",
       "      <td>book_0195153448</td>\n",
       "      <td>Classical Mythology</td>\n",
       "      <td>Mark P. O. Morford</td>\n",
       "      <td>2002</td>\n",
       "      <td>Oxford University Press</td>\n",
       "    </tr>\n",
       "    <tr>\n",
       "      <th>1</th>\n",
       "      <td>book_0002005018</td>\n",
       "      <td>Clara Callan</td>\n",
       "      <td>Richard Bruce Wright</td>\n",
       "      <td>2001</td>\n",
       "      <td>HarperFlamingo Canada</td>\n",
       "    </tr>\n",
       "    <tr>\n",
       "      <th>2</th>\n",
       "      <td>book_0060973129</td>\n",
       "      <td>Decision in Normandy</td>\n",
       "      <td>Carlo D'Este</td>\n",
       "      <td>1991</td>\n",
       "      <td>HarperPerennial</td>\n",
       "    </tr>\n",
       "    <tr>\n",
       "      <th>3</th>\n",
       "      <td>book_0374157065</td>\n",
       "      <td>Flu: The Story of the Great Influenza Pandemic...</td>\n",
       "      <td>Gina Bari Kolata</td>\n",
       "      <td>1999</td>\n",
       "      <td>Farrar Straus Giroux</td>\n",
       "    </tr>\n",
       "    <tr>\n",
       "      <th>4</th>\n",
       "      <td>book_0393045218</td>\n",
       "      <td>The Mummies of Urumchi</td>\n",
       "      <td>E. J. W. Barber</td>\n",
       "      <td>1999</td>\n",
       "      <td>W. W. Norton &amp;amp; Company</td>\n",
       "    </tr>\n",
       "  </tbody>\n",
       "</table>\n",
       "</div>"
      ],
      "text/plain": [
       "              ISBN                                         Book-Title  \\\n",
       "0  book_0195153448                                Classical Mythology   \n",
       "1  book_0002005018                                       Clara Callan   \n",
       "2  book_0060973129                               Decision in Normandy   \n",
       "3  book_0374157065  Flu: The Story of the Great Influenza Pandemic...   \n",
       "4  book_0393045218                             The Mummies of Urumchi   \n",
       "\n",
       "            Book-Author  Year-Of-Publication                   Publisher  \n",
       "0    Mark P. O. Morford                 2002     Oxford University Press  \n",
       "1  Richard Bruce Wright                 2001       HarperFlamingo Canada  \n",
       "2          Carlo D'Este                 1991             HarperPerennial  \n",
       "3      Gina Bari Kolata                 1999        Farrar Straus Giroux  \n",
       "4       E. J. W. Barber                 1999  W. W. Norton &amp; Company  "
      ]
     },
     "execution_count": 4,
     "metadata": {},
     "output_type": "execute_result"
    }
   ],
   "source": [
    "books.head()"
   ]
  },
  {
   "cell_type": "markdown",
   "metadata": {},
   "source": [
    "### 1.3 Book to Book Matches"
   ]
  },
  {
   "cell_type": "code",
   "execution_count": 5,
   "metadata": {},
   "outputs": [
    {
     "name": "stdout",
     "output_type": "stream",
     "text": [
      "Number of Groups: 17935\n"
     ]
    },
    {
     "data": {
      "text/html": [
       "<div>\n",
       "<style scoped>\n",
       "    .dataframe tbody tr th:only-of-type {\n",
       "        vertical-align: middle;\n",
       "    }\n",
       "\n",
       "    .dataframe tbody tr th {\n",
       "        vertical-align: top;\n",
       "    }\n",
       "\n",
       "    .dataframe thead th {\n",
       "        text-align: right;\n",
       "    }\n",
       "</style>\n",
       "<table border=\"1\" class=\"dataframe\">\n",
       "  <thead>\n",
       "    <tr style=\"text-align: right;\">\n",
       "      <th></th>\n",
       "      <th>User-ID</th>\n",
       "      <th>ISBN_list</th>\n",
       "    </tr>\n",
       "  </thead>\n",
       "  <tbody>\n",
       "    <tr>\n",
       "      <th>0</th>\n",
       "      <td>user_100004</td>\n",
       "      <td>[book_0345339703, book_0399146652, book_042508...</td>\n",
       "    </tr>\n",
       "    <tr>\n",
       "      <th>1</th>\n",
       "      <td>user_100009</td>\n",
       "      <td>[book_0060392452, book_0060977337, book_031298...</td>\n",
       "    </tr>\n",
       "    <tr>\n",
       "      <th>2</th>\n",
       "      <td>user_10001</td>\n",
       "      <td>[book_0399143165, book_0684195976]</td>\n",
       "    </tr>\n",
       "    <tr>\n",
       "      <th>3</th>\n",
       "      <td>user_10003</td>\n",
       "      <td>[book_068483068X, book_0743446593]</td>\n",
       "    </tr>\n",
       "    <tr>\n",
       "      <th>4</th>\n",
       "      <td>user_100043</td>\n",
       "      <td>[book_0060937734, book_0375727345]</td>\n",
       "    </tr>\n",
       "  </tbody>\n",
       "</table>\n",
       "</div>"
      ],
      "text/plain": [
       "       User-ID                                          ISBN_list\n",
       "0  user_100004  [book_0345339703, book_0399146652, book_042508...\n",
       "1  user_100009  [book_0060392452, book_0060977337, book_031298...\n",
       "2   user_10001                 [book_0399143165, book_0684195976]\n",
       "3   user_10003                 [book_068483068X, book_0743446593]\n",
       "4  user_100043                 [book_0060937734, book_0375727345]"
      ]
     },
     "execution_count": 5,
     "metadata": {},
     "output_type": "execute_result"
    }
   ],
   "source": [
    "# Group books which are read from same user\n",
    "book_groups_raw = ratings.groupby('User-ID')\n",
    "book_groups = pd.DataFrame(\n",
    "    data={\n",
    "        \"User-ID\": list(book_groups_raw.groups.keys()),\n",
    "        \"ISBN_list\": list(book_groups_raw.ISBN.apply(list)),\n",
    "    }\n",
    ")\n",
    "# Eliminate if user has read one book\n",
    "book_groups = book_groups[book_groups['ISBN_list'].apply(len) > 1].reset_index(drop=True)\n",
    "print(f\"Number of Groups: {book_groups.shape[0]}\")\n",
    "book_groups.head()\n"
   ]
  },
  {
   "cell_type": "code",
   "execution_count": 6,
   "metadata": {},
   "outputs": [
    {
     "name": "stdout",
     "output_type": "stream",
     "text": [
      "Number of Matches: 26911272\n"
     ]
    },
    {
     "data": {
      "text/html": [
       "<div>\n",
       "<style scoped>\n",
       "    .dataframe tbody tr th:only-of-type {\n",
       "        vertical-align: middle;\n",
       "    }\n",
       "\n",
       "    .dataframe tbody tr th {\n",
       "        vertical-align: top;\n",
       "    }\n",
       "\n",
       "    .dataframe thead th {\n",
       "        text-align: right;\n",
       "    }\n",
       "</style>\n",
       "<table border=\"1\" class=\"dataframe\">\n",
       "  <thead>\n",
       "    <tr style=\"text-align: right;\">\n",
       "      <th></th>\n",
       "      <th>main_book</th>\n",
       "      <th>similar_book</th>\n",
       "    </tr>\n",
       "  </thead>\n",
       "  <tbody>\n",
       "    <tr>\n",
       "      <th>0</th>\n",
       "      <td>book_0345339703</td>\n",
       "      <td>book_0399146652</td>\n",
       "    </tr>\n",
       "    <tr>\n",
       "      <th>1</th>\n",
       "      <td>book_0345339703</td>\n",
       "      <td>book_0425083837</td>\n",
       "    </tr>\n",
       "    <tr>\n",
       "      <th>2</th>\n",
       "      <td>book_0345339703</td>\n",
       "      <td>book_0439064872</td>\n",
       "    </tr>\n",
       "    <tr>\n",
       "      <th>3</th>\n",
       "      <td>book_0345339703</td>\n",
       "      <td>book_059035342X</td>\n",
       "    </tr>\n",
       "    <tr>\n",
       "      <th>4</th>\n",
       "      <td>book_0399146652</td>\n",
       "      <td>book_0425083837</td>\n",
       "    </tr>\n",
       "  </tbody>\n",
       "</table>\n",
       "</div>"
      ],
      "text/plain": [
       "         main_book     similar_book\n",
       "0  book_0345339703  book_0399146652\n",
       "1  book_0345339703  book_0425083837\n",
       "2  book_0345339703  book_0439064872\n",
       "3  book_0345339703  book_059035342X\n",
       "4  book_0399146652  book_0425083837"
      ]
     },
     "execution_count": 6,
     "metadata": {},
     "output_type": "execute_result"
    }
   ],
   "source": [
    "\n",
    "book_matches = []\n",
    "# for each book in our isbn_list we generate pairs\n",
    "for isbn_list in book_groups['ISBN_list'].values:\n",
    "    for i, main_isbn in enumerate(isbn_list[:-1]):\n",
    "        for similar_isbn in isbn_list[i+1:]:\n",
    "            book_matches.append([main_isbn, similar_isbn])\n",
    "            \n",
    "book_pairs_dataset = pd.DataFrame(book_matches, columns=[\"main_book\", \"similar_book\"])\n",
    "print(f\"Number of Matches: {book_pairs_dataset.shape[0]}\")\n",
    "book_pairs_dataset.head()"
   ]
  },
  {
   "cell_type": "markdown",
   "metadata": {},
   "source": [
    "### 1.4 Convert Dataset to TFDS"
   ]
  },
  {
   "cell_type": "code",
   "execution_count": 7,
   "metadata": {},
   "outputs": [],
   "source": [
    "book_pairs = tf.data.Dataset.from_tensor_slices({\n",
    "    'main_book': tf.cast(book_pairs_dataset['main_book'], dtype=tf.string),\n",
    "    'similar_book': tf.cast(book_pairs_dataset['similar_book'], dtype=tf.string)\n",
    "})\n",
    "\n",
    "book_infos = tf.data.Dataset.from_tensor_slices({\n",
    "    'ISBN': tf.cast(books['ISBN'], dtype=tf.string),\n",
    "    'Book-Title': tf.cast(books['Book-Title'], dtype=tf.string),\n",
    "    'Book-Author': tf.cast(books['Book-Author'], dtype=tf.string),\n",
    "    'Year-Of-Publication': tf.cast(books['Year-Of-Publication'], dtype=tf.int32),\n",
    "    'Publisher': tf.cast(books['Publisher'], dtype=tf.string),\n",
    "})\n"
   ]
  },
  {
   "cell_type": "code",
   "execution_count": 8,
   "metadata": {},
   "outputs": [
    {
     "name": "stdout",
     "output_type": "stream",
     "text": [
      "{'Book-Author': b'Mark P. O. Morford',\n",
      " 'Book-Title': b'Classical Mythology',\n",
      " 'ISBN': b'book_0195153448',\n",
      " 'Publisher': b'Oxford University Press',\n",
      " 'Year-Of-Publication': 2002}\n"
     ]
    }
   ],
   "source": [
    "for x in book_infos.take(1).as_numpy_iterator():\n",
    "  pprint.pprint(x)"
   ]
  },
  {
   "cell_type": "code",
   "execution_count": 9,
   "metadata": {},
   "outputs": [
    {
     "name": "stdout",
     "output_type": "stream",
     "text": [
      "{'main_book': b'book_0345339703', 'similar_book': b'book_0399146652'}\n"
     ]
    }
   ],
   "source": [
    "for x in book_pairs.take(1).as_numpy_iterator():\n",
    "  pprint.pprint(x)"
   ]
  },
  {
   "cell_type": "markdown",
   "metadata": {},
   "source": [
    "## 2. Model Definition"
   ]
  },
  {
   "cell_type": "markdown",
   "metadata": {},
   "source": []
  }
 ],
 "metadata": {
  "kernelspec": {
   "display_name": "feast",
   "language": "python",
   "name": "python3"
  },
  "language_info": {
   "codemirror_mode": {
    "name": "ipython",
    "version": 3
   },
   "file_extension": ".py",
   "mimetype": "text/x-python",
   "name": "python",
   "nbconvert_exporter": "python",
   "pygments_lexer": "ipython3",
   "version": "3.9.18"
  },
  "orig_nbformat": 4
 },
 "nbformat": 4,
 "nbformat_minor": 2
}
